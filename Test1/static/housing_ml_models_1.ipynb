{
  "cells": [
    {
      "cell_type": "code",
      "execution_count": 36,
      "metadata": {
        "colab": {
          "base_uri": "https://localhost:8080/",
          "height": 74
        },
        "id": "JENj2HnEzU5J",
        "outputId": "51bad8d6-6252-4814-c24a-0394e52c319c"
      },
      "outputs": [],
      "source": [
        "# Import the modules\n",
        "import numpy as np\n",
        "import pandas as pd\n",
        "from pathlib import Path\n",
        "from sklearn.model_selection import train_test_split\n",
        "from sklearn.metrics import confusion_matrix, accuracy_score\n"
      ]
    },
    {
      "cell_type": "code",
      "execution_count": 37,
      "metadata": {
        "colab": {
          "base_uri": "https://localhost:8080/",
          "height": 256
        },
        "id": "QVA1K1IF1GL8",
        "outputId": "9ec1f54a-0470-41c9-8d92-31e5b5ddbab0"
      },
      "outputs": [
        {
          "data": {
            "text/html": [
              "<div>\n",
              "<style scoped>\n",
              "    .dataframe tbody tr th:only-of-type {\n",
              "        vertical-align: middle;\n",
              "    }\n",
              "\n",
              "    .dataframe tbody tr th {\n",
              "        vertical-align: top;\n",
              "    }\n",
              "\n",
              "    .dataframe thead th {\n",
              "        text-align: right;\n",
              "    }\n",
              "</style>\n",
              "<table border=\"1\" class=\"dataframe\">\n",
              "  <thead>\n",
              "    <tr style=\"text-align: right;\">\n",
              "      <th></th>\n",
              "      <th>price</th>\n",
              "      <th>bedrooms</th>\n",
              "      <th>bathrooms</th>\n",
              "      <th>sqft_living</th>\n",
              "      <th>sqft_lot</th>\n",
              "      <th>floors</th>\n",
              "      <th>waterfront</th>\n",
              "      <th>view</th>\n",
              "      <th>condition</th>\n",
              "      <th>yr_built</th>\n",
              "      <th>...</th>\n",
              "      <th>total_pop</th>\n",
              "      <th>avg_income</th>\n",
              "      <th>city</th>\n",
              "      <th>population</th>\n",
              "      <th>violent_crime</th>\n",
              "      <th>robbery</th>\n",
              "      <th>prop_crime</th>\n",
              "      <th>burglary</th>\n",
              "      <th>vehicle_theft</th>\n",
              "      <th>crime_rate_per_capita</th>\n",
              "    </tr>\n",
              "  </thead>\n",
              "  <tbody>\n",
              "    <tr>\n",
              "      <th>0</th>\n",
              "      <td>231300.0</td>\n",
              "      <td>2</td>\n",
              "      <td>1.00</td>\n",
              "      <td>1180</td>\n",
              "      <td>5650</td>\n",
              "      <td>1.0</td>\n",
              "      <td>0</td>\n",
              "      <td>0</td>\n",
              "      <td>3</td>\n",
              "      <td>1955</td>\n",
              "      <td>...</td>\n",
              "      <td>13220</td>\n",
              "      <td>68004.765507</td>\n",
              "      <td>Seattle</td>\n",
              "      <td>721,365</td>\n",
              "      <td>183.1</td>\n",
              "      <td>210.02</td>\n",
              "      <td>2209.8</td>\n",
              "      <td>1,081.98</td>\n",
              "      <td>503.21</td>\n",
              "      <td>0.013850</td>\n",
              "    </tr>\n",
              "    <tr>\n",
              "      <th>1</th>\n",
              "      <td>538000.0</td>\n",
              "      <td>3</td>\n",
              "      <td>2.25</td>\n",
              "      <td>2570</td>\n",
              "      <td>7242</td>\n",
              "      <td>2.0</td>\n",
              "      <td>0</td>\n",
              "      <td>0</td>\n",
              "      <td>3</td>\n",
              "      <td>1951</td>\n",
              "      <td>...</td>\n",
              "      <td>21760</td>\n",
              "      <td>89057.812500</td>\n",
              "      <td>Seattle</td>\n",
              "      <td>721,365</td>\n",
              "      <td>183.1</td>\n",
              "      <td>210.02</td>\n",
              "      <td>2209.8</td>\n",
              "      <td>1,081.98</td>\n",
              "      <td>503.21</td>\n",
              "      <td>0.008415</td>\n",
              "    </tr>\n",
              "    <tr>\n",
              "      <th>2</th>\n",
              "      <td>604000.0</td>\n",
              "      <td>4</td>\n",
              "      <td>3.00</td>\n",
              "      <td>1960</td>\n",
              "      <td>5000</td>\n",
              "      <td>1.0</td>\n",
              "      <td>0</td>\n",
              "      <td>0</td>\n",
              "      <td>5</td>\n",
              "      <td>1965</td>\n",
              "      <td>...</td>\n",
              "      <td>8840</td>\n",
              "      <td>142535.067873</td>\n",
              "      <td>Seattle</td>\n",
              "      <td>721,365</td>\n",
              "      <td>183.1</td>\n",
              "      <td>210.02</td>\n",
              "      <td>2209.8</td>\n",
              "      <td>1,081.98</td>\n",
              "      <td>503.21</td>\n",
              "      <td>0.020713</td>\n",
              "    </tr>\n",
              "    <tr>\n",
              "      <th>3</th>\n",
              "      <td>510000.0</td>\n",
              "      <td>3</td>\n",
              "      <td>2.00</td>\n",
              "      <td>1680</td>\n",
              "      <td>8080</td>\n",
              "      <td>1.0</td>\n",
              "      <td>0</td>\n",
              "      <td>0</td>\n",
              "      <td>3</td>\n",
              "      <td>1987</td>\n",
              "      <td>...</td>\n",
              "      <td>12680</td>\n",
              "      <td>236032.492114</td>\n",
              "      <td>Sammamish</td>\n",
              "      <td>47,158</td>\n",
              "      <td>33.9</td>\n",
              "      <td>2.10</td>\n",
              "      <td>727.3</td>\n",
              "      <td>231.1</td>\n",
              "      <td>27.60</td>\n",
              "      <td>0.002674</td>\n",
              "    </tr>\n",
              "    <tr>\n",
              "      <th>4</th>\n",
              "      <td>1225000.0</td>\n",
              "      <td>4</td>\n",
              "      <td>4.50</td>\n",
              "      <td>5420</td>\n",
              "      <td>101930</td>\n",
              "      <td>1.0</td>\n",
              "      <td>0</td>\n",
              "      <td>0</td>\n",
              "      <td>3</td>\n",
              "      <td>2001</td>\n",
              "      <td>...</td>\n",
              "      <td>10030</td>\n",
              "      <td>207522.133599</td>\n",
              "      <td>Redmond</td>\n",
              "      <td>55,770</td>\n",
              "      <td>64.6</td>\n",
              "      <td>19.70</td>\n",
              "      <td>2137.3</td>\n",
              "      <td>308.4</td>\n",
              "      <td>87.90</td>\n",
              "      <td>0.006441</td>\n",
              "    </tr>\n",
              "  </tbody>\n",
              "</table>\n",
              "<p>5 rows × 21 columns</p>\n",
              "</div>"
            ],
            "text/plain": [
              "       price  bedrooms  bathrooms  sqft_living  sqft_lot  floors  waterfront  \\\n",
              "0   231300.0         2       1.00         1180      5650     1.0           0   \n",
              "1   538000.0         3       2.25         2570      7242     2.0           0   \n",
              "2   604000.0         4       3.00         1960      5000     1.0           0   \n",
              "3   510000.0         3       2.00         1680      8080     1.0           0   \n",
              "4  1225000.0         4       4.50         5420    101930     1.0           0   \n",
              "\n",
              "   view  condition  yr_built  ...  total_pop     avg_income       city  \\\n",
              "0     0          3      1955  ...      13220   68004.765507    Seattle   \n",
              "1     0          3      1951  ...      21760   89057.812500    Seattle   \n",
              "2     0          5      1965  ...       8840  142535.067873    Seattle   \n",
              "3     0          3      1987  ...      12680  236032.492114  Sammamish   \n",
              "4     0          3      2001  ...      10030  207522.133599    Redmond   \n",
              "\n",
              "  population violent_crime  robbery  prop_crime  burglary vehicle_theft  \\\n",
              "0    721,365         183.1   210.02      2209.8  1,081.98        503.21   \n",
              "1    721,365         183.1   210.02      2209.8  1,081.98        503.21   \n",
              "2    721,365         183.1   210.02      2209.8  1,081.98        503.21   \n",
              "3     47,158          33.9     2.10       727.3     231.1         27.60   \n",
              "4     55,770          64.6    19.70      2137.3     308.4         87.90   \n",
              "\n",
              "   crime_rate_per_capita  \n",
              "0               0.013850  \n",
              "1               0.008415  \n",
              "2               0.020713  \n",
              "3               0.002674  \n",
              "4               0.006441  \n",
              "\n",
              "[5 rows x 21 columns]"
            ]
          },
          "execution_count": 37,
          "metadata": {},
          "output_type": "execute_result"
        }
      ],
      "source": [
        "# Read the housing_merge.csv\n",
        "housing_df = pd.read_csv(\"Resources/housing_merge.csv\")\n",
        "housing_df.head()"
      ]
    },
    {
      "cell_type": "code",
      "execution_count": 38,
      "metadata": {
        "colab": {
          "base_uri": "https://localhost:8080/"
        },
        "id": "-Xr1Fd4B2tZO",
        "outputId": "de59a9fc-6ec4-44f9-e918-58e7eaaa9904"
      },
      "outputs": [
        {
          "name": "stdout",
          "output_type": "stream",
          "text": [
            "           price  bedrooms  bathrooms  sqft_living  sqft_lot  floors  \\\n",
            "0       231300.0         2       1.00         1180      5650     1.0   \n",
            "1       538000.0         3       2.25         2570      7242     2.0   \n",
            "2       604000.0         4       3.00         1960      5000     1.0   \n",
            "3       510000.0         3       2.00         1680      8080     1.0   \n",
            "4      1225000.0         4       4.50         5420    101930     1.0   \n",
            "...          ...       ...        ...          ...       ...     ...   \n",
            "19945   475000.0         3       2.50         1310      1294     2.0   \n",
            "19946   360000.0         3       2.50         1530      1131     3.0   \n",
            "19947   400000.0         4       2.50         2310      5813     2.0   \n",
            "19948   402101.0         2       0.75         1020      1350     2.0   \n",
            "19949   325000.0         2       0.75         1020      1076     2.0   \n",
            "\n",
            "       waterfront  view  condition  yr_built  ...  zipcode_98146  \\\n",
            "0               0     0          3      1955  ...          False   \n",
            "1               0     0          3      1951  ...          False   \n",
            "2               0     0          5      1965  ...          False   \n",
            "3               0     0          3      1987  ...          False   \n",
            "4               0     0          3      2001  ...          False   \n",
            "...           ...   ...        ...       ...  ...            ...   \n",
            "19945           0     0          3      2008  ...          False   \n",
            "19946           0     0          3      2009  ...          False   \n",
            "19947           0     0          3      2014  ...           True   \n",
            "19948           0     0          3      2009  ...          False   \n",
            "19949           0     0          3      2008  ...          False   \n",
            "\n",
            "       zipcode_98148 zipcode_98155  zipcode_98166  zipcode_98168  \\\n",
            "0              False         False          False          False   \n",
            "1              False         False          False          False   \n",
            "2              False         False          False          False   \n",
            "3              False         False          False          False   \n",
            "4              False         False          False          False   \n",
            "...              ...           ...            ...            ...   \n",
            "19945          False         False          False          False   \n",
            "19946          False         False          False          False   \n",
            "19947          False         False          False          False   \n",
            "19948          False         False          False          False   \n",
            "19949          False         False          False          False   \n",
            "\n",
            "       zipcode_98177 zipcode_98178  zipcode_98188  zipcode_98198  \\\n",
            "0              False          True          False          False   \n",
            "1              False         False          False          False   \n",
            "2              False         False          False          False   \n",
            "3              False         False          False          False   \n",
            "4              False         False          False          False   \n",
            "...              ...           ...            ...            ...   \n",
            "19945          False         False          False          False   \n",
            "19946          False         False          False          False   \n",
            "19947          False         False          False          False   \n",
            "19948          False         False          False          False   \n",
            "19949          False         False          False          False   \n",
            "\n",
            "       zipcode_98199  \n",
            "0              False  \n",
            "1              False  \n",
            "2              False  \n",
            "3              False  \n",
            "4              False  \n",
            "...              ...  \n",
            "19945          False  \n",
            "19946          False  \n",
            "19947          False  \n",
            "19948          False  \n",
            "19949          False  \n",
            "\n",
            "[19950 rows x 81 columns]\n"
          ]
        }
      ],
      "source": [
        "# One-Hot Encoding for the 'city', 'zipcode\" column\n",
        "df_encoded = pd.get_dummies(housing_df, columns=['city', 'zipcode'])\n",
        "\n",
        "print(df_encoded)"
      ]
    },
    {
      "cell_type": "code",
      "execution_count": 39,
      "metadata": {
        "colab": {
          "base_uri": "https://localhost:8080/"
        },
        "id": "-ZuPTjAl3Cwz",
        "outputId": "a3240b9e-fcc0-4f6d-9ab0-dca8fd563b8f"
      },
      "outputs": [
        {
          "data": {
            "text/plain": [
              "Index(['price', 'bedrooms', 'bathrooms', 'sqft_living', 'sqft_lot', 'floors',\n",
              "       'waterfront', 'view', 'condition', 'yr_built', 'total_pop',\n",
              "       'avg_income', 'population', 'violent_crime', 'robbery', 'prop_crime',\n",
              "       'burglary', 'vehicle_theft', 'crime_rate_per_capita', 'city_Auburn',\n",
              "       'city_Bellevue', 'city_Federal Way', 'city_Kent', 'city_Kirkland',\n",
              "       'city_Redmond', 'city_Renton', 'city_Sammamish', 'city_Seattle',\n",
              "       'zipcode_98001', 'zipcode_98002', 'zipcode_98003', 'zipcode_98004',\n",
              "       'zipcode_98005', 'zipcode_98006', 'zipcode_98007', 'zipcode_98008',\n",
              "       'zipcode_98023', 'zipcode_98030', 'zipcode_98031', 'zipcode_98032',\n",
              "       'zipcode_98033', 'zipcode_98034', 'zipcode_98042', 'zipcode_98052',\n",
              "       'zipcode_98053', 'zipcode_98055', 'zipcode_98056', 'zipcode_98058',\n",
              "       'zipcode_98059', 'zipcode_98074', 'zipcode_98075', 'zipcode_98092',\n",
              "       'zipcode_98102', 'zipcode_98103', 'zipcode_98105', 'zipcode_98106',\n",
              "       'zipcode_98107', 'zipcode_98108', 'zipcode_98109', 'zipcode_98112',\n",
              "       'zipcode_98115', 'zipcode_98116', 'zipcode_98117', 'zipcode_98118',\n",
              "       'zipcode_98119', 'zipcode_98122', 'zipcode_98125', 'zipcode_98126',\n",
              "       'zipcode_98133', 'zipcode_98136', 'zipcode_98144', 'zipcode_98146',\n",
              "       'zipcode_98148', 'zipcode_98155', 'zipcode_98166', 'zipcode_98168',\n",
              "       'zipcode_98177', 'zipcode_98178', 'zipcode_98188', 'zipcode_98198',\n",
              "       'zipcode_98199'],\n",
              "      dtype='object')"
            ]
          },
          "execution_count": 39,
          "metadata": {},
          "output_type": "execute_result"
        }
      ],
      "source": [
        "df_encoded.columns"
      ]
    },
    {
      "cell_type": "code",
      "execution_count": 40,
      "metadata": {
        "id": "qnadGITd5YgQ"
      },
      "outputs": [],
      "source": [
        "# Drop rows with missing values\n",
        "df_encoded.dropna(inplace=True)"
      ]
    },
    {
      "cell_type": "code",
      "execution_count": 41,
      "metadata": {
        "id": "PR0MkgOF5kky"
      },
      "outputs": [],
      "source": [
        "# Convert 'population' and 'burglary' columns to numeric\n",
        "df_encoded['population'] = pd.to_numeric(df_encoded['population'], errors='coerce')\n",
        "df_encoded['burglary'] = pd.to_numeric(df_encoded['burglary'], errors='coerce')"
      ]
    },
    {
      "cell_type": "code",
      "execution_count": 42,
      "metadata": {
        "id": "amM5tE-OBKvI"
      },
      "outputs": [],
      "source": [
        "df_encoded.fillna(0, inplace=True)"
      ]
    },
    {
      "cell_type": "code",
      "execution_count": 43,
      "metadata": {
        "colab": {
          "base_uri": "https://localhost:8080/",
          "height": 256
        },
        "id": "GVyoYjNQAmTZ",
        "outputId": "3545ec6b-bee8-4d6f-e623-e240d4d263c8"
      },
      "outputs": [
        {
          "data": {
            "text/html": [
              "<div>\n",
              "<style scoped>\n",
              "    .dataframe tbody tr th:only-of-type {\n",
              "        vertical-align: middle;\n",
              "    }\n",
              "\n",
              "    .dataframe tbody tr th {\n",
              "        vertical-align: top;\n",
              "    }\n",
              "\n",
              "    .dataframe thead th {\n",
              "        text-align: right;\n",
              "    }\n",
              "</style>\n",
              "<table border=\"1\" class=\"dataframe\">\n",
              "  <thead>\n",
              "    <tr style=\"text-align: right;\">\n",
              "      <th></th>\n",
              "      <th>bedrooms</th>\n",
              "      <th>bathrooms</th>\n",
              "      <th>sqft_living</th>\n",
              "      <th>sqft_lot</th>\n",
              "      <th>floors</th>\n",
              "      <th>waterfront</th>\n",
              "      <th>view</th>\n",
              "      <th>condition</th>\n",
              "      <th>yr_built</th>\n",
              "      <th>total_pop</th>\n",
              "      <th>...</th>\n",
              "      <th>zipcode_98146</th>\n",
              "      <th>zipcode_98148</th>\n",
              "      <th>zipcode_98155</th>\n",
              "      <th>zipcode_98166</th>\n",
              "      <th>zipcode_98168</th>\n",
              "      <th>zipcode_98177</th>\n",
              "      <th>zipcode_98178</th>\n",
              "      <th>zipcode_98188</th>\n",
              "      <th>zipcode_98198</th>\n",
              "      <th>zipcode_98199</th>\n",
              "    </tr>\n",
              "  </thead>\n",
              "  <tbody>\n",
              "    <tr>\n",
              "      <th>0</th>\n",
              "      <td>2</td>\n",
              "      <td>1.00</td>\n",
              "      <td>1180</td>\n",
              "      <td>5650</td>\n",
              "      <td>1.0</td>\n",
              "      <td>0</td>\n",
              "      <td>0</td>\n",
              "      <td>3</td>\n",
              "      <td>1955</td>\n",
              "      <td>13220</td>\n",
              "      <td>...</td>\n",
              "      <td>False</td>\n",
              "      <td>False</td>\n",
              "      <td>False</td>\n",
              "      <td>False</td>\n",
              "      <td>False</td>\n",
              "      <td>False</td>\n",
              "      <td>True</td>\n",
              "      <td>False</td>\n",
              "      <td>False</td>\n",
              "      <td>False</td>\n",
              "    </tr>\n",
              "    <tr>\n",
              "      <th>1</th>\n",
              "      <td>3</td>\n",
              "      <td>2.25</td>\n",
              "      <td>2570</td>\n",
              "      <td>7242</td>\n",
              "      <td>2.0</td>\n",
              "      <td>0</td>\n",
              "      <td>0</td>\n",
              "      <td>3</td>\n",
              "      <td>1951</td>\n",
              "      <td>21760</td>\n",
              "      <td>...</td>\n",
              "      <td>False</td>\n",
              "      <td>False</td>\n",
              "      <td>False</td>\n",
              "      <td>False</td>\n",
              "      <td>False</td>\n",
              "      <td>False</td>\n",
              "      <td>False</td>\n",
              "      <td>False</td>\n",
              "      <td>False</td>\n",
              "      <td>False</td>\n",
              "    </tr>\n",
              "    <tr>\n",
              "      <th>2</th>\n",
              "      <td>4</td>\n",
              "      <td>3.00</td>\n",
              "      <td>1960</td>\n",
              "      <td>5000</td>\n",
              "      <td>1.0</td>\n",
              "      <td>0</td>\n",
              "      <td>0</td>\n",
              "      <td>5</td>\n",
              "      <td>1965</td>\n",
              "      <td>8840</td>\n",
              "      <td>...</td>\n",
              "      <td>False</td>\n",
              "      <td>False</td>\n",
              "      <td>False</td>\n",
              "      <td>False</td>\n",
              "      <td>False</td>\n",
              "      <td>False</td>\n",
              "      <td>False</td>\n",
              "      <td>False</td>\n",
              "      <td>False</td>\n",
              "      <td>False</td>\n",
              "    </tr>\n",
              "    <tr>\n",
              "      <th>3</th>\n",
              "      <td>3</td>\n",
              "      <td>2.00</td>\n",
              "      <td>1680</td>\n",
              "      <td>8080</td>\n",
              "      <td>1.0</td>\n",
              "      <td>0</td>\n",
              "      <td>0</td>\n",
              "      <td>3</td>\n",
              "      <td>1987</td>\n",
              "      <td>12680</td>\n",
              "      <td>...</td>\n",
              "      <td>False</td>\n",
              "      <td>False</td>\n",
              "      <td>False</td>\n",
              "      <td>False</td>\n",
              "      <td>False</td>\n",
              "      <td>False</td>\n",
              "      <td>False</td>\n",
              "      <td>False</td>\n",
              "      <td>False</td>\n",
              "      <td>False</td>\n",
              "    </tr>\n",
              "    <tr>\n",
              "      <th>4</th>\n",
              "      <td>4</td>\n",
              "      <td>4.50</td>\n",
              "      <td>5420</td>\n",
              "      <td>101930</td>\n",
              "      <td>1.0</td>\n",
              "      <td>0</td>\n",
              "      <td>0</td>\n",
              "      <td>3</td>\n",
              "      <td>2001</td>\n",
              "      <td>10030</td>\n",
              "      <td>...</td>\n",
              "      <td>False</td>\n",
              "      <td>False</td>\n",
              "      <td>False</td>\n",
              "      <td>False</td>\n",
              "      <td>False</td>\n",
              "      <td>False</td>\n",
              "      <td>False</td>\n",
              "      <td>False</td>\n",
              "      <td>False</td>\n",
              "      <td>False</td>\n",
              "    </tr>\n",
              "  </tbody>\n",
              "</table>\n",
              "<p>5 rows × 80 columns</p>\n",
              "</div>"
            ],
            "text/plain": [
              "   bedrooms  bathrooms  sqft_living  sqft_lot  floors  waterfront  view  \\\n",
              "0         2       1.00         1180      5650     1.0           0     0   \n",
              "1         3       2.25         2570      7242     2.0           0     0   \n",
              "2         4       3.00         1960      5000     1.0           0     0   \n",
              "3         3       2.00         1680      8080     1.0           0     0   \n",
              "4         4       4.50         5420    101930     1.0           0     0   \n",
              "\n",
              "   condition  yr_built  total_pop  ...  zipcode_98146  zipcode_98148  \\\n",
              "0          3      1955      13220  ...          False          False   \n",
              "1          3      1951      21760  ...          False          False   \n",
              "2          5      1965       8840  ...          False          False   \n",
              "3          3      1987      12680  ...          False          False   \n",
              "4          3      2001      10030  ...          False          False   \n",
              "\n",
              "   zipcode_98155  zipcode_98166  zipcode_98168  zipcode_98177  zipcode_98178  \\\n",
              "0          False          False          False          False           True   \n",
              "1          False          False          False          False          False   \n",
              "2          False          False          False          False          False   \n",
              "3          False          False          False          False          False   \n",
              "4          False          False          False          False          False   \n",
              "\n",
              "   zipcode_98188  zipcode_98198  zipcode_98199  \n",
              "0          False          False          False  \n",
              "1          False          False          False  \n",
              "2          False          False          False  \n",
              "3          False          False          False  \n",
              "4          False          False          False  \n",
              "\n",
              "[5 rows x 80 columns]"
            ]
          },
          "execution_count": 43,
          "metadata": {},
          "output_type": "execute_result"
        }
      ],
      "source": [
        "# Separate the data into labels and features\n",
        "\n",
        "# Separate the y variable, the labels\n",
        "y = df_encoded[\"price\"]\n",
        "\n",
        "# Separate the X variable, the features\n",
        "X = df_encoded.drop(\"price\", axis=1)\n",
        "feature_names = X.columns\n",
        "X.head()"
      ]
    },
    {
      "cell_type": "code",
      "execution_count": 44,
      "metadata": {
        "id": "cF9S-i_y9Im9"
      },
      "outputs": [],
      "source": [
        "# Import the train_test_learn module\n",
        "from sklearn.model_selection import train_test_split\n",
        "\n",
        "# Split the data using train_test_split\n",
        "# Assign a random_state of 1 to the function\n",
        "X_train, X_test, y_train, y_test = train_test_split(X, y, random_state=1)"
      ]
    },
    {
      "cell_type": "code",
      "execution_count": 45,
      "metadata": {
        "colab": {
          "base_uri": "https://localhost:8080/"
        },
        "id": "smZIs_dBBXgi",
        "outputId": "a898296f-b3f0-4096-c18d-29309a59823b"
      },
      "outputs": [
        {
          "name": "stdout",
          "output_type": "stream",
          "text": [
            "(14962, 80)\n"
          ]
        }
      ],
      "source": [
        "print(X_train.shape)"
      ]
    },
    {
      "cell_type": "markdown",
      "metadata": {
        "id": "L53Jqhsbp5TV"
      },
      "source": [
        "## Machine Learning: Create a Linear Regression Model"
      ]
    },
    {
      "cell_type": "code",
      "execution_count": 46,
      "metadata": {
        "colab": {
          "base_uri": "https://localhost:8080/"
        },
        "id": "oKG-qSiSP801",
        "outputId": "367bf655-4c3c-4902-a918-48390cad756d"
      },
      "outputs": [
        {
          "data": {
            "text/plain": [
              "0.7898636205834024"
            ]
          },
          "execution_count": 46,
          "metadata": {},
          "output_type": "execute_result"
        }
      ],
      "source": [
        "from sklearn.linear_model import LinearRegression\n",
        "from sklearn.metrics import mean_squared_error, r2_score\n",
        "\n",
        "model = LinearRegression()\n",
        "# Fit the model to the training data\n",
        "model.fit(X_train, y_train)\n",
        "\n",
        "model.score(X_test, y_test)\n",
        "\n"
      ]
    },
    {
      "cell_type": "code",
      "execution_count": 47,
      "metadata": {
        "colab": {
          "base_uri": "https://localhost:8080/"
        },
        "id": "R_x0ZE2E-bkt",
        "outputId": "039e3038-f08e-40f3-805e-71614bf683f9"
      },
      "outputs": [
        {
          "name": "stdout",
          "output_type": "stream",
          "text": [
            "Mean Squared Error (MSE): 31301096391.601192\n",
            "R-squared: 0.7898636205834024\n"
          ]
        }
      ],
      "source": [
        "# Predictions on the test set\n",
        "predictions = model.predict(X_test)\n",
        "\n",
        "# Calculate Mean Squared Error (MSE)\n",
        "mse = mean_squared_error(y_test, predictions)\n",
        "\n",
        "# Calculate R-squared (Coefficient of Determination)\n",
        "r2 = r2_score(y_test, predictions)\n",
        "\n",
        "# Print the evaluation results\n",
        "print(f\"Mean Squared Error (MSE): {mse}\")\n",
        "print(f\"R-squared: {r2}\")"
      ]
    },
    {
      "cell_type": "code",
      "execution_count": 48,
      "metadata": {
        "colab": {
          "base_uri": "https://localhost:8080/"
        },
        "id": "LixJNhNi-gpm",
        "outputId": "5a9cc03a-5190-46b6-a604-820d7e461081"
      },
      "outputs": [
        {
          "data": {
            "text/plain": [
              "array([0.78509312, 0.79833121, 0.80873748, 0.79538053, 0.78949021])"
            ]
          },
          "execution_count": 48,
          "metadata": {},
          "output_type": "execute_result"
        }
      ],
      "source": [
        "from sklearn.model_selection import ShuffleSplit\n",
        "from sklearn.model_selection import cross_val_score\n",
        "\n",
        "cv = ShuffleSplit(n_splits=5, test_size=0.2, random_state=0)\n",
        "cross_val_score(LinearRegression(), X, y, cv=cv)"
      ]
    },
    {
      "cell_type": "code",
      "execution_count": 49,
      "metadata": {
        "colab": {
          "base_uri": "https://localhost:8080/",
          "height": 472
        },
        "id": "06ZpCvU-VpD-",
        "outputId": "315a514a-5c1d-48a5-d6bb-5a414e8c7d6c"
      },
      "outputs": [
        {
          "data": {
            "image/png": "[encoded data removed]",
            "text/plain": [
              "<Figure size 640x480 with 1 Axes>"
            ]
          },
          "metadata": {},
          "output_type": "display_data"
        }
      ],
      "source": [
        "import matplotlib.pyplot as plt\n",
        "\n",
        "# Scatter plot of price vs. sqft_living\n",
        "plt.scatter(df_encoded['sqft_living'], df_encoded['price'])\n",
        "plt.xlabel('Square Foot Living Area')\n",
        "plt.ylabel('Price')\n",
        "plt.title('Price vs. Square Foot Living Area')\n",
        "plt.show()"
      ]
    },
    {
      "cell_type": "code",
      "execution_count": 50,
      "metadata": {
        "colab": {
          "base_uri": "https://localhost:8080/",
          "height": 472
        },
        "id": "V7fKCznaWRTw",
        "outputId": "9670aef9-246a-48e7-d23d-93bd017337a1"
      },
      "outputs": [
        {
          "data": {
            "image/png": "[encoded data removed]",
            "text/plain": [
              "<Figure size 640x480 with 1 Axes>"
            ]
          },
          "metadata": {},
          "output_type": "display_data"
        }
      ],
      "source": [
        "# Scatter plot of price vs. avg_income\n",
        "plt.scatter(df_encoded['avg_income'], df_encoded['price'])\n",
        "plt.xlabel('Average Income in the city')\n",
        "plt.ylabel('Price')\n",
        "plt.title('Price vs. Average Income in the city')\n",
        "plt.show()"
      ]
    },
    {
      "cell_type": "code",
      "execution_count": 51,
      "metadata": {
        "colab": {
          "base_uri": "https://localhost:8080/",
          "height": 472
        },
        "id": "co14DJ2nXHUX",
        "outputId": "fc25a0b0-e4d0-4687-b5e0-fc5d8425ace7"
      },
      "outputs": [
        {
          "data": {
            "image/png": "[encoded data removed]",
            "text/plain": [
              "<Figure size 640x480 with 1 Axes>"
            ]
          },
          "metadata": {},
          "output_type": "display_data"
        }
      ],
      "source": [
        "# Scatter plot of price vs. crime_rate_per_capita\n",
        "plt.scatter(df_encoded['crime_rate_per_capita'], df_encoded['price'])\n",
        "plt.xlabel('Crime Rate Per Capita')\n",
        "plt.ylabel('Price')\n",
        "plt.title('Price vs. Crime Rate Per Capita')\n",
        "plt.show()"
      ]
    },
    {
      "cell_type": "code",
      "execution_count": 52,
      "metadata": {
        "colab": {
          "base_uri": "https://localhost:8080/"
        },
        "id": "Y05CTGPHWsHj",
        "outputId": "0167abf4-f75a-4d71-8799-d4a242ca6790"
      },
      "outputs": [
        {
          "name": "stdout",
          "output_type": "stream",
          "text": [
            "                  price  bedrooms  bathrooms  sqft_living  sqft_lot    floors  \\\n",
            "price          1.000000  0.300156   0.522010     0.708554  0.106061  0.247592   \n",
            "bedrooms       0.300156  1.000000   0.515391     0.572160  0.071594  0.154581   \n",
            "bathrooms      0.522010  0.515391   1.000000     0.752226  0.100152  0.482451   \n",
            "sqft_living    0.708554  0.572160   0.752226     1.000000  0.212553  0.337182   \n",
            "sqft_lot       0.106061  0.071594   0.100152     0.212553  1.000000 -0.028321   \n",
            "...                 ...       ...        ...          ...       ...       ...   \n",
            "zipcode_98177  0.037430  0.000834   0.001889     0.032486  0.003545 -0.038693   \n",
            "zipcode_98178 -0.071191 -0.010646  -0.053067    -0.041621 -0.015439 -0.058685   \n",
            "zipcode_98188 -0.055753  0.003902  -0.023942    -0.023273 -0.004180 -0.035596   \n",
            "zipcode_98198 -0.076028 -0.026017  -0.046153    -0.040969 -0.003830 -0.051909   \n",
            "zipcode_98199  0.079828 -0.023798   0.013293     0.013944 -0.033758  0.001831   \n",
            "\n",
            "               waterfront      view  condition  yr_built  ...  zipcode_98146  \\\n",
            "price            0.270381  0.406126   0.029034  0.058111  ...      -0.059392   \n",
            "bedrooms         0.005557  0.085996   0.033462  0.154275  ...      -0.033677   \n",
            "bathrooms        0.077252  0.205495  -0.114427  0.493741  ...      -0.071060   \n",
            "sqft_living      0.119189  0.307395  -0.051376  0.311226  ...      -0.057875   \n",
            "sqft_lot         0.034871  0.073750  -0.008476  0.052739  ...      -0.012248   \n",
            "...                   ...       ...        ...       ...  ...            ...   \n",
            "zipcode_98177   -0.004059  0.083717   0.008556 -0.030906  ...      -0.013771   \n",
            "zipcode_98178    0.038392  0.043309  -0.021481 -0.053573  ...      -0.013962   \n",
            "zipcode_98188   -0.006889 -0.009989  -0.014145 -0.009224  ...      -0.010027   \n",
            "zipcode_98198    0.041676  0.053733  -0.000243 -0.008247  ...      -0.014440   \n",
            "zipcode_98199   -0.005712  0.050586   0.012190 -0.053360  ...      -0.015379   \n",
            "\n",
            "               zipcode_98148  zipcode_98155  zipcode_98166  zipcode_98168  \\\n",
            "price              -0.036600      -0.049065      -0.024941      -0.093426   \n",
            "bedrooms           -0.014029      -0.010555      -0.001336      -0.048385   \n",
            "bathrooms          -0.020328      -0.053283      -0.025842      -0.099005   \n",
            "sqft_living        -0.026234      -0.045138       0.000860      -0.075347   \n",
            "sqft_lot           -0.005563      -0.006529       0.012423       0.000238   \n",
            "...                      ...            ...            ...            ...   \n",
            "zipcode_98177      -0.006091      -0.017207      -0.012922      -0.013303   \n",
            "zipcode_98178      -0.006175      -0.017444      -0.013100      -0.013487   \n",
            "zipcode_98188      -0.004435      -0.012528      -0.009408      -0.009686   \n",
            "zipcode_98198      -0.006387      -0.018042      -0.013549      -0.013949   \n",
            "zipcode_98199      -0.006802      -0.019215      -0.014430      -0.014856   \n",
            "\n",
            "               zipcode_98177  zipcode_98178  zipcode_98188  zipcode_98198  \\\n",
            "price               0.037430      -0.071191      -0.055753      -0.076028   \n",
            "bedrooms            0.000834      -0.010646       0.003902      -0.026017   \n",
            "bathrooms           0.001889      -0.053067      -0.023942      -0.046153   \n",
            "sqft_living         0.032486      -0.041621      -0.023273      -0.040969   \n",
            "sqft_lot            0.003545      -0.015439      -0.004180      -0.003830   \n",
            "...                      ...            ...            ...            ...   \n",
            "zipcode_98177       1.000000      -0.013126      -0.009427      -0.013576   \n",
            "zipcode_98178      -0.013126       1.000000      -0.009557      -0.013763   \n",
            "zipcode_98188      -0.009427      -0.009557       1.000000      -0.009885   \n",
            "zipcode_98198      -0.013576      -0.013763      -0.009885       1.000000   \n",
            "zipcode_98199      -0.014459      -0.014658      -0.010527      -0.015160   \n",
            "\n",
            "               zipcode_98199  \n",
            "price               0.079828  \n",
            "bedrooms           -0.023798  \n",
            "bathrooms           0.013293  \n",
            "sqft_living         0.013944  \n",
            "sqft_lot           -0.033758  \n",
            "...                      ...  \n",
            "zipcode_98177      -0.014459  \n",
            "zipcode_98178      -0.014658  \n",
            "zipcode_98188      -0.010527  \n",
            "zipcode_98198      -0.015160  \n",
            "zipcode_98199       1.000000  \n",
            "\n",
            "[81 rows x 81 columns]\n"
          ]
        }
      ],
      "source": [
        "correlation_matrix = df_encoded.corr()\n",
        "print(correlation_matrix)"
      ]
    },
    {
      "cell_type": "code",
      "execution_count": 53,
      "metadata": {
        "colab": {
          "base_uri": "https://localhost:8080/",
          "height": 256
        },
        "id": "9XGM_JQEDrlH",
        "outputId": "fbc13172-66f3-4851-b00a-e76c39a0fde1"
      },
      "outputs": [
        {
          "data": {
            "text/html": [
              "<div>\n",
              "<style scoped>\n",
              "    .dataframe tbody tr th:only-of-type {\n",
              "        vertical-align: middle;\n",
              "    }\n",
              "\n",
              "    .dataframe tbody tr th {\n",
              "        vertical-align: top;\n",
              "    }\n",
              "\n",
              "    .dataframe thead th {\n",
              "        text-align: right;\n",
              "    }\n",
              "</style>\n",
              "<table border=\"1\" class=\"dataframe\">\n",
              "  <thead>\n",
              "    <tr style=\"text-align: right;\">\n",
              "      <th></th>\n",
              "      <th>price</th>\n",
              "      <th>bedrooms</th>\n",
              "      <th>bathrooms</th>\n",
              "      <th>sqft_living</th>\n",
              "      <th>avg_income</th>\n",
              "      <th>city_Auburn</th>\n",
              "      <th>city_Bellevue</th>\n",
              "      <th>city_Federal Way</th>\n",
              "      <th>city_Kent</th>\n",
              "      <th>city_Kirkland</th>\n",
              "      <th>...</th>\n",
              "      <th>zipcode_98126</th>\n",
              "      <th>zipcode_98133</th>\n",
              "      <th>zipcode_98136</th>\n",
              "      <th>zipcode_98144</th>\n",
              "      <th>zipcode_98146</th>\n",
              "      <th>zipcode_98148</th>\n",
              "      <th>zipcode_98155</th>\n",
              "      <th>zipcode_98166</th>\n",
              "      <th>zipcode_98198</th>\n",
              "      <th>zipcode_98199</th>\n",
              "    </tr>\n",
              "  </thead>\n",
              "  <tbody>\n",
              "    <tr>\n",
              "      <th>0</th>\n",
              "      <td>231300.0</td>\n",
              "      <td>2</td>\n",
              "      <td>1.00</td>\n",
              "      <td>1180</td>\n",
              "      <td>68004.765507</td>\n",
              "      <td>False</td>\n",
              "      <td>False</td>\n",
              "      <td>False</td>\n",
              "      <td>False</td>\n",
              "      <td>False</td>\n",
              "      <td>...</td>\n",
              "      <td>False</td>\n",
              "      <td>False</td>\n",
              "      <td>False</td>\n",
              "      <td>False</td>\n",
              "      <td>False</td>\n",
              "      <td>False</td>\n",
              "      <td>False</td>\n",
              "      <td>False</td>\n",
              "      <td>False</td>\n",
              "      <td>False</td>\n",
              "    </tr>\n",
              "    <tr>\n",
              "      <th>1</th>\n",
              "      <td>538000.0</td>\n",
              "      <td>3</td>\n",
              "      <td>2.25</td>\n",
              "      <td>2570</td>\n",
              "      <td>89057.812500</td>\n",
              "      <td>False</td>\n",
              "      <td>False</td>\n",
              "      <td>False</td>\n",
              "      <td>False</td>\n",
              "      <td>False</td>\n",
              "      <td>...</td>\n",
              "      <td>False</td>\n",
              "      <td>False</td>\n",
              "      <td>False</td>\n",
              "      <td>False</td>\n",
              "      <td>False</td>\n",
              "      <td>False</td>\n",
              "      <td>False</td>\n",
              "      <td>False</td>\n",
              "      <td>False</td>\n",
              "      <td>False</td>\n",
              "    </tr>\n",
              "    <tr>\n",
              "      <th>2</th>\n",
              "      <td>604000.0</td>\n",
              "      <td>4</td>\n",
              "      <td>3.00</td>\n",
              "      <td>1960</td>\n",
              "      <td>142535.067873</td>\n",
              "      <td>False</td>\n",
              "      <td>False</td>\n",
              "      <td>False</td>\n",
              "      <td>False</td>\n",
              "      <td>False</td>\n",
              "      <td>...</td>\n",
              "      <td>False</td>\n",
              "      <td>False</td>\n",
              "      <td>True</td>\n",
              "      <td>False</td>\n",
              "      <td>False</td>\n",
              "      <td>False</td>\n",
              "      <td>False</td>\n",
              "      <td>False</td>\n",
              "      <td>False</td>\n",
              "      <td>False</td>\n",
              "    </tr>\n",
              "    <tr>\n",
              "      <th>3</th>\n",
              "      <td>510000.0</td>\n",
              "      <td>3</td>\n",
              "      <td>2.00</td>\n",
              "      <td>1680</td>\n",
              "      <td>236032.492114</td>\n",
              "      <td>False</td>\n",
              "      <td>False</td>\n",
              "      <td>False</td>\n",
              "      <td>False</td>\n",
              "      <td>False</td>\n",
              "      <td>...</td>\n",
              "      <td>False</td>\n",
              "      <td>False</td>\n",
              "      <td>False</td>\n",
              "      <td>False</td>\n",
              "      <td>False</td>\n",
              "      <td>False</td>\n",
              "      <td>False</td>\n",
              "      <td>False</td>\n",
              "      <td>False</td>\n",
              "      <td>False</td>\n",
              "    </tr>\n",
              "    <tr>\n",
              "      <th>4</th>\n",
              "      <td>1225000.0</td>\n",
              "      <td>4</td>\n",
              "      <td>4.50</td>\n",
              "      <td>5420</td>\n",
              "      <td>207522.133599</td>\n",
              "      <td>False</td>\n",
              "      <td>False</td>\n",
              "      <td>False</td>\n",
              "      <td>False</td>\n",
              "      <td>False</td>\n",
              "      <td>...</td>\n",
              "      <td>False</td>\n",
              "      <td>False</td>\n",
              "      <td>False</td>\n",
              "      <td>False</td>\n",
              "      <td>False</td>\n",
              "      <td>False</td>\n",
              "      <td>False</td>\n",
              "      <td>False</td>\n",
              "      <td>False</td>\n",
              "      <td>False</td>\n",
              "    </tr>\n",
              "  </tbody>\n",
              "</table>\n",
              "<p>5 rows × 63 columns</p>\n",
              "</div>"
            ],
            "text/plain": [
              "       price  bedrooms  bathrooms  sqft_living     avg_income  city_Auburn  \\\n",
              "0   231300.0         2       1.00         1180   68004.765507        False   \n",
              "1   538000.0         3       2.25         2570   89057.812500        False   \n",
              "2   604000.0         4       3.00         1960  142535.067873        False   \n",
              "3   510000.0         3       2.00         1680  236032.492114        False   \n",
              "4  1225000.0         4       4.50         5420  207522.133599        False   \n",
              "\n",
              "   city_Bellevue  city_Federal Way  city_Kent  city_Kirkland  ...  \\\n",
              "0          False             False      False          False  ...   \n",
              "1          False             False      False          False  ...   \n",
              "2          False             False      False          False  ...   \n",
              "3          False             False      False          False  ...   \n",
              "4          False             False      False          False  ...   \n",
              "\n",
              "   zipcode_98126  zipcode_98133  zipcode_98136  zipcode_98144  zipcode_98146  \\\n",
              "0          False          False          False          False          False   \n",
              "1          False          False          False          False          False   \n",
              "2          False          False           True          False          False   \n",
              "3          False          False          False          False          False   \n",
              "4          False          False          False          False          False   \n",
              "\n",
              "   zipcode_98148  zipcode_98155  zipcode_98166  zipcode_98198  zipcode_98199  \n",
              "0          False          False          False          False          False  \n",
              "1          False          False          False          False          False  \n",
              "2          False          False          False          False          False  \n",
              "3          False          False          False          False          False  \n",
              "4          False          False          False          False          False  \n",
              "\n",
              "[5 rows x 63 columns]"
            ]
          },
          "execution_count": 53,
          "metadata": {},
          "output_type": "execute_result"
        }
      ],
      "source": [
        "# Drop weak features\n",
        "df_encoded1 = df_encoded.drop(columns=['condition', 'yr_built', 'sqft_lot', 'population', 'violent_crime', 'total_pop', 'vehicle_theft', 'zipcode_98177', 'zipcode_98168', 'zipcode_98178', 'burglary', 'zipcode_98188', 'floors', 'robbery', 'prop_crime', 'crime_rate_per_capita', 'waterfront', 'view'])\n",
        "df_encoded1.head()"
      ]
    },
    {
      "cell_type": "code",
      "execution_count": 54,
      "metadata": {},
      "outputs": [
        {
          "data": {
            "text/plain": [
              "Index(['price', 'bedrooms', 'bathrooms', 'sqft_living', 'avg_income',\n",
              "       'city_Auburn', 'city_Bellevue', 'city_Federal Way', 'city_Kent',\n",
              "       'city_Kirkland', 'city_Redmond', 'city_Renton', 'city_Sammamish',\n",
              "       'city_Seattle', 'zipcode_98001', 'zipcode_98002', 'zipcode_98003',\n",
              "       'zipcode_98004', 'zipcode_98005', 'zipcode_98006', 'zipcode_98007',\n",
              "       'zipcode_98008', 'zipcode_98023', 'zipcode_98030', 'zipcode_98031',\n",
              "       'zipcode_98032', 'zipcode_98033', 'zipcode_98034', 'zipcode_98042',\n",
              "       'zipcode_98052', 'zipcode_98053', 'zipcode_98055', 'zipcode_98056',\n",
              "       'zipcode_98058', 'zipcode_98059', 'zipcode_98074', 'zipcode_98075',\n",
              "       'zipcode_98092', 'zipcode_98102', 'zipcode_98103', 'zipcode_98105',\n",
              "       'zipcode_98106', 'zipcode_98107', 'zipcode_98108', 'zipcode_98109',\n",
              "       'zipcode_98112', 'zipcode_98115', 'zipcode_98116', 'zipcode_98117',\n",
              "       'zipcode_98118', 'zipcode_98119', 'zipcode_98122', 'zipcode_98125',\n",
              "       'zipcode_98126', 'zipcode_98133', 'zipcode_98136', 'zipcode_98144',\n",
              "       'zipcode_98146', 'zipcode_98148', 'zipcode_98155', 'zipcode_98166',\n",
              "       'zipcode_98198', 'zipcode_98199'],\n",
              "      dtype='object')"
            ]
          },
          "execution_count": 54,
          "metadata": {},
          "output_type": "execute_result"
        }
      ],
      "source": [
        "df_encoded1.columns"
      ]
    },
    {
      "cell_type": "code",
      "execution_count": 55,
      "metadata": {
        "colab": {
          "base_uri": "https://localhost:8080/"
        },
        "id": "u0y-uB3AE5AM",
        "outputId": "a15ed36e-0068-4a50-a17e-475c5e7d081b"
      },
      "outputs": [
        {
          "name": "stdout",
          "output_type": "stream",
          "text": [
            "Mean Squared Error (MSE): 37120653758.393166\n",
            "R-squared: 0.7507946787302031\n"
          ]
        }
      ],
      "source": [
        "# Separate the data into labels and features\n",
        "\n",
        "# Separate the y variable, the labels\n",
        "y1 = df_encoded1[\"price\"]\n",
        "\n",
        "# Separate the X variable, the features\n",
        "X1 = df_encoded1.drop(\"price\", axis=1)\n",
        "feature_names1 = X1.columns\n",
        "\n",
        "# Split the data using train_test_split\n",
        "# Assign a random_state of 1 to the function\n",
        "X1_train1, X1_test1, y1_train1, y1_test1 = train_test_split(X1, y1, random_state=1)\n",
        "\n",
        "model1 = LinearRegression()\n",
        "# Fit the model to the training data\n",
        "model1.fit(X1_train1, y1_train1)\n",
        "\n",
        "model1.score(X1_test1, y1_test1)\n",
        "\n",
        "# Predictions on the test set\n",
        "predictions1 = model1.predict(X1_test1)\n",
        "\n",
        "# Calculate Mean Squared Error (MSE)\n",
        "mse1 = mean_squared_error(y1_test1, predictions1)\n",
        "\n",
        "# Calculate R-squared (Coefficient of Determination)\n",
        "r2_1 = r2_score(y1_test1, predictions1)\n",
        "\n",
        "# Print the evaluation results\n",
        "print(f\"Mean Squared Error (MSE): {mse1}\")\n",
        "print(f\"R-squared: {r2_1}\")"
      ]
    },
    {
      "cell_type": "code",
      "execution_count": 56,
      "metadata": {},
      "outputs": [
        {
          "data": {
            "text/plain": [
              "Index(['bedrooms', 'bathrooms', 'sqft_living', 'avg_income', 'city_Auburn',\n",
              "       'city_Bellevue', 'city_Federal Way', 'city_Kent', 'city_Kirkland',\n",
              "       'city_Redmond', 'city_Renton', 'city_Sammamish', 'city_Seattle',\n",
              "       'zipcode_98001', 'zipcode_98002', 'zipcode_98003', 'zipcode_98004',\n",
              "       'zipcode_98005', 'zipcode_98006', 'zipcode_98007', 'zipcode_98008',\n",
              "       'zipcode_98023', 'zipcode_98030', 'zipcode_98031', 'zipcode_98032',\n",
              "       'zipcode_98033', 'zipcode_98034', 'zipcode_98042', 'zipcode_98052',\n",
              "       'zipcode_98053', 'zipcode_98055', 'zipcode_98056', 'zipcode_98058',\n",
              "       'zipcode_98059', 'zipcode_98074', 'zipcode_98075', 'zipcode_98092',\n",
              "       'zipcode_98102', 'zipcode_98103', 'zipcode_98105', 'zipcode_98106',\n",
              "       'zipcode_98107', 'zipcode_98108', 'zipcode_98109', 'zipcode_98112',\n",
              "       'zipcode_98115', 'zipcode_98116', 'zipcode_98117', 'zipcode_98118',\n",
              "       'zipcode_98119', 'zipcode_98122', 'zipcode_98125', 'zipcode_98126',\n",
              "       'zipcode_98133', 'zipcode_98136', 'zipcode_98144', 'zipcode_98146',\n",
              "       'zipcode_98148', 'zipcode_98155', 'zipcode_98166', 'zipcode_98198',\n",
              "       'zipcode_98199'],\n",
              "      dtype='object')"
            ]
          },
          "execution_count": 56,
          "metadata": {},
          "output_type": "execute_result"
        }
      ],
      "source": [
        "X1.columns"
      ]
    },
    {
      "cell_type": "code",
      "execution_count": 57,
      "metadata": {
        "colab": {
          "base_uri": "https://localhost:8080/"
        },
        "id": "jkS2KuqmFzdB",
        "outputId": "c29ecc92-18d2-43fb-94df-7493a082d620"
      },
      "outputs": [
        {
          "name": "stdout",
          "output_type": "stream",
          "text": [
            "                  price  bedrooms  bathrooms  sqft_living  avg_income  \\\n",
            "price          1.000000  0.300156   0.522010     0.708554    0.605129   \n",
            "bedrooms       0.300156  1.000000   0.515391     0.572160    0.137863   \n",
            "bathrooms      0.522010  0.515391   1.000000     0.752226    0.252256   \n",
            "sqft_living    0.708554  0.572160   0.752226     1.000000    0.340995   \n",
            "avg_income     0.605129  0.137863   0.252256     0.340995    1.000000   \n",
            "...                 ...       ...        ...          ...         ...   \n",
            "zipcode_98148 -0.036600 -0.014029  -0.020328    -0.026234   -0.054911   \n",
            "zipcode_98155 -0.049065 -0.010555  -0.053283    -0.045138   -0.069657   \n",
            "zipcode_98166 -0.024941 -0.001336  -0.025842     0.000860   -0.039560   \n",
            "zipcode_98198 -0.076028 -0.026017  -0.046153    -0.040969   -0.110768   \n",
            "zipcode_98199  0.079828 -0.023798   0.013293     0.013944    0.118706   \n",
            "\n",
            "               city_Auburn  city_Bellevue  city_Federal Way  city_Kent  \\\n",
            "price            -0.211501       0.366141         -0.135493  -0.163606   \n",
            "bedrooms          0.009205       0.184639          0.002419   0.013285   \n",
            "bathrooms        -0.011262       0.164849         -0.008012   0.002759   \n",
            "sqft_living      -0.036664       0.256519         -0.020417  -0.033020   \n",
            "avg_income       -0.273817       0.462819         -0.192419  -0.219945   \n",
            "...                    ...            ...               ...        ...   \n",
            "zipcode_98148    -0.016980      -0.021692         -0.010790  -0.013560   \n",
            "zipcode_98155    -0.047970      -0.061279         -0.030483  -0.038307   \n",
            "zipcode_98166    -0.036024      -0.046019         -0.022891  -0.028767   \n",
            "zipcode_98198    -0.037848      -0.048349         -0.024050  -0.030223   \n",
            "zipcode_98199    -0.040309      -0.051492         -0.025614  -0.032189   \n",
            "\n",
            "               city_Kirkland  ...  zipcode_98126  zipcode_98133  \\\n",
            "price               0.057137  ...      -0.043268      -0.066848   \n",
            "bedrooms            0.028587  ...      -0.078300      -0.043235   \n",
            "bathrooms           0.037987  ...      -0.071086      -0.073319   \n",
            "sqft_living         0.023645  ...      -0.075659      -0.077409   \n",
            "avg_income          0.151777  ...      -0.056713      -0.127434   \n",
            "...                      ...  ...            ...            ...   \n",
            "zipcode_98148      -0.012147  ...      -0.007195      -0.008530   \n",
            "zipcode_98155      -0.034315  ...      -0.020325      -0.024096   \n",
            "zipcode_98166      -0.025770  ...      -0.015263      -0.018095   \n",
            "zipcode_98198      -0.027074  ...      -0.016036      -0.019011   \n",
            "zipcode_98199      -0.028835  ...      -0.017079      -0.020248   \n",
            "\n",
            "               zipcode_98136  zipcode_98144  zipcode_98146  zipcode_98148  \\\n",
            "price               0.000778       0.015561      -0.059392      -0.036600   \n",
            "bedrooms           -0.055717      -0.023753      -0.033677      -0.014029   \n",
            "bathrooms          -0.033245      -0.006691      -0.071060      -0.020328   \n",
            "sqft_living        -0.042019      -0.021419      -0.057875      -0.026234   \n",
            "avg_income          0.017810      -0.043407      -0.091741      -0.054911   \n",
            "...                      ...            ...            ...            ...   \n",
            "zipcode_98148      -0.006187      -0.007080      -0.006478       1.000000   \n",
            "zipcode_98155      -0.017478      -0.020001      -0.018302      -0.008095   \n",
            "zipcode_98166      -0.013126      -0.015020      -0.013744      -0.006079   \n",
            "zipcode_98198      -0.013790      -0.015780      -0.014440      -0.006387   \n",
            "zipcode_98199      -0.014687      -0.016807      -0.015379      -0.006802   \n",
            "\n",
            "               zipcode_98155  zipcode_98166  zipcode_98198  zipcode_98199  \n",
            "price              -0.049065      -0.024941      -0.076028       0.079828  \n",
            "bedrooms           -0.010555      -0.001336      -0.026017      -0.023798  \n",
            "bathrooms          -0.053283      -0.025842      -0.046153       0.013293  \n",
            "sqft_living        -0.045138       0.000860      -0.040969       0.013944  \n",
            "avg_income         -0.069657      -0.039560      -0.110768       0.118706  \n",
            "...                      ...            ...            ...            ...  \n",
            "zipcode_98148      -0.008095      -0.006079      -0.006387      -0.006802  \n",
            "zipcode_98155       1.000000      -0.017172      -0.018042      -0.019215  \n",
            "zipcode_98166      -0.017172       1.000000      -0.013549      -0.014430  \n",
            "zipcode_98198      -0.018042      -0.013549       1.000000      -0.015160  \n",
            "zipcode_98199      -0.019215      -0.014430      -0.015160       1.000000  \n",
            "\n",
            "[63 rows x 63 columns]\n"
          ]
        }
      ],
      "source": [
        "correlation_matrix1 = df_encoded1.corr()\n",
        "print(correlation_matrix1)"
      ]
    },
    {
      "cell_type": "code",
      "execution_count": 58,
      "metadata": {
        "colab": {
          "base_uri": "https://localhost:8080/",
          "height": 256
        },
        "id": "vMmFWptBHYgk",
        "outputId": "cfd31810-0ff7-434d-95a7-b051f7323748"
      },
      "outputs": [
        {
          "data": {
            "text/html": [
              "<div>\n",
              "<style scoped>\n",
              "    .dataframe tbody tr th:only-of-type {\n",
              "        vertical-align: middle;\n",
              "    }\n",
              "\n",
              "    .dataframe tbody tr th {\n",
              "        vertical-align: top;\n",
              "    }\n",
              "\n",
              "    .dataframe thead th {\n",
              "        text-align: right;\n",
              "    }\n",
              "</style>\n",
              "<table border=\"1\" class=\"dataframe\">\n",
              "  <thead>\n",
              "    <tr style=\"text-align: right;\">\n",
              "      <th></th>\n",
              "      <th>price</th>\n",
              "      <th>bedrooms</th>\n",
              "      <th>bathrooms</th>\n",
              "      <th>sqft_living</th>\n",
              "      <th>avg_income</th>\n",
              "      <th>city_Auburn</th>\n",
              "      <th>city_Bellevue</th>\n",
              "      <th>city_Federal Way</th>\n",
              "      <th>city_Kent</th>\n",
              "      <th>city_Kirkland</th>\n",
              "      <th>...</th>\n",
              "      <th>zipcode_98126</th>\n",
              "      <th>zipcode_98133</th>\n",
              "      <th>zipcode_98136</th>\n",
              "      <th>zipcode_98144</th>\n",
              "      <th>zipcode_98146</th>\n",
              "      <th>zipcode_98148</th>\n",
              "      <th>zipcode_98155</th>\n",
              "      <th>zipcode_98166</th>\n",
              "      <th>zipcode_98198</th>\n",
              "      <th>zipcode_98199</th>\n",
              "    </tr>\n",
              "  </thead>\n",
              "  <tbody>\n",
              "    <tr>\n",
              "      <th>0</th>\n",
              "      <td>231300.0</td>\n",
              "      <td>2</td>\n",
              "      <td>1.00</td>\n",
              "      <td>1180</td>\n",
              "      <td>68004.765507</td>\n",
              "      <td>False</td>\n",
              "      <td>False</td>\n",
              "      <td>False</td>\n",
              "      <td>False</td>\n",
              "      <td>False</td>\n",
              "      <td>...</td>\n",
              "      <td>False</td>\n",
              "      <td>False</td>\n",
              "      <td>False</td>\n",
              "      <td>False</td>\n",
              "      <td>False</td>\n",
              "      <td>False</td>\n",
              "      <td>False</td>\n",
              "      <td>False</td>\n",
              "      <td>False</td>\n",
              "      <td>False</td>\n",
              "    </tr>\n",
              "    <tr>\n",
              "      <th>1</th>\n",
              "      <td>538000.0</td>\n",
              "      <td>3</td>\n",
              "      <td>2.25</td>\n",
              "      <td>2570</td>\n",
              "      <td>89057.812500</td>\n",
              "      <td>False</td>\n",
              "      <td>False</td>\n",
              "      <td>False</td>\n",
              "      <td>False</td>\n",
              "      <td>False</td>\n",
              "      <td>...</td>\n",
              "      <td>False</td>\n",
              "      <td>False</td>\n",
              "      <td>False</td>\n",
              "      <td>False</td>\n",
              "      <td>False</td>\n",
              "      <td>False</td>\n",
              "      <td>False</td>\n",
              "      <td>False</td>\n",
              "      <td>False</td>\n",
              "      <td>False</td>\n",
              "    </tr>\n",
              "    <tr>\n",
              "      <th>2</th>\n",
              "      <td>604000.0</td>\n",
              "      <td>4</td>\n",
              "      <td>3.00</td>\n",
              "      <td>1960</td>\n",
              "      <td>142535.067873</td>\n",
              "      <td>False</td>\n",
              "      <td>False</td>\n",
              "      <td>False</td>\n",
              "      <td>False</td>\n",
              "      <td>False</td>\n",
              "      <td>...</td>\n",
              "      <td>False</td>\n",
              "      <td>False</td>\n",
              "      <td>True</td>\n",
              "      <td>False</td>\n",
              "      <td>False</td>\n",
              "      <td>False</td>\n",
              "      <td>False</td>\n",
              "      <td>False</td>\n",
              "      <td>False</td>\n",
              "      <td>False</td>\n",
              "    </tr>\n",
              "    <tr>\n",
              "      <th>3</th>\n",
              "      <td>510000.0</td>\n",
              "      <td>3</td>\n",
              "      <td>2.00</td>\n",
              "      <td>1680</td>\n",
              "      <td>236032.492114</td>\n",
              "      <td>False</td>\n",
              "      <td>False</td>\n",
              "      <td>False</td>\n",
              "      <td>False</td>\n",
              "      <td>False</td>\n",
              "      <td>...</td>\n",
              "      <td>False</td>\n",
              "      <td>False</td>\n",
              "      <td>False</td>\n",
              "      <td>False</td>\n",
              "      <td>False</td>\n",
              "      <td>False</td>\n",
              "      <td>False</td>\n",
              "      <td>False</td>\n",
              "      <td>False</td>\n",
              "      <td>False</td>\n",
              "    </tr>\n",
              "    <tr>\n",
              "      <th>4</th>\n",
              "      <td>1225000.0</td>\n",
              "      <td>4</td>\n",
              "      <td>4.50</td>\n",
              "      <td>5420</td>\n",
              "      <td>207522.133599</td>\n",
              "      <td>False</td>\n",
              "      <td>False</td>\n",
              "      <td>False</td>\n",
              "      <td>False</td>\n",
              "      <td>False</td>\n",
              "      <td>...</td>\n",
              "      <td>False</td>\n",
              "      <td>False</td>\n",
              "      <td>False</td>\n",
              "      <td>False</td>\n",
              "      <td>False</td>\n",
              "      <td>False</td>\n",
              "      <td>False</td>\n",
              "      <td>False</td>\n",
              "      <td>False</td>\n",
              "      <td>False</td>\n",
              "    </tr>\n",
              "  </tbody>\n",
              "</table>\n",
              "<p>5 rows × 63 columns</p>\n",
              "</div>"
            ],
            "text/plain": [
              "       price  bedrooms  bathrooms  sqft_living     avg_income  city_Auburn  \\\n",
              "0   231300.0         2       1.00         1180   68004.765507        False   \n",
              "1   538000.0         3       2.25         2570   89057.812500        False   \n",
              "2   604000.0         4       3.00         1960  142535.067873        False   \n",
              "3   510000.0         3       2.00         1680  236032.492114        False   \n",
              "4  1225000.0         4       4.50         5420  207522.133599        False   \n",
              "\n",
              "   city_Bellevue  city_Federal Way  city_Kent  city_Kirkland  ...  \\\n",
              "0          False             False      False          False  ...   \n",
              "1          False             False      False          False  ...   \n",
              "2          False             False      False          False  ...   \n",
              "3          False             False      False          False  ...   \n",
              "4          False             False      False          False  ...   \n",
              "\n",
              "   zipcode_98126  zipcode_98133  zipcode_98136  zipcode_98144  zipcode_98146  \\\n",
              "0          False          False          False          False          False   \n",
              "1          False          False          False          False          False   \n",
              "2          False          False           True          False          False   \n",
              "3          False          False          False          False          False   \n",
              "4          False          False          False          False          False   \n",
              "\n",
              "   zipcode_98148  zipcode_98155  zipcode_98166  zipcode_98198  zipcode_98199  \n",
              "0          False          False          False          False          False  \n",
              "1          False          False          False          False          False  \n",
              "2          False          False          False          False          False  \n",
              "3          False          False          False          False          False  \n",
              "4          False          False          False          False          False  \n",
              "\n",
              "[5 rows x 63 columns]"
            ]
          },
          "execution_count": 58,
          "metadata": {},
          "output_type": "execute_result"
        }
      ],
      "source": [
        "df_encoded1.head()"
      ]
    },
    {
      "cell_type": "code",
      "execution_count": 59,
      "metadata": {},
      "outputs": [],
      "source": [
        "# Drop price from encoded\n",
        "df_encoded1_drop = df_encoded1.drop(columns=['price'])"
      ]
    },
    {
      "cell_type": "code",
      "execution_count": 60,
      "metadata": {},
      "outputs": [],
      "source": [
        "# Export clean data to csv \n",
        "df_encoded1_drop.to_csv('Resources/df_encoded1_drop.csv', index=False)"
      ]
    },
    {
      "cell_type": "code",
      "execution_count": 61,
      "metadata": {},
      "outputs": [
        {
          "name": "stdout",
          "output_type": "stream",
          "text": [
            "Model saved at ../Anh/optimized_predict_pricing.pkl\n"
          ]
        }
      ],
      "source": [
        "# Save the train model to a. pkl file\n",
        "import joblib\n",
        "model_path = '../Anh/optimized_predict_pricing.pkl'\n",
        "joblib.dump(model1, model_path)\n",
        "print(f\"Model saved at {model_path}\")"
      ]
    },
    {
      "cell_type": "code",
      "execution_count": 62,
      "metadata": {},
      "outputs": [],
      "source": [
        "import json\n",
        "columns = {\n",
        "    'data_columns': [col.lower() for col in X1.columns]\n",
        "}\n",
        "with open (\"column.json\", \"w\") as f:\n",
        "    f.write(json.dumps(columns))"
      ]
    },
    {
      "cell_type": "code",
      "execution_count": 63,
      "metadata": {},
      "outputs": [],
      "source": [
        "from sklearn.linear_model import LinearRegression\n",
        "import pandas as pd\n",
        "import joblib\n",
        "\n",
        "# Load the trained model\n",
        "model = joblib.load('optimized_predict_pricing.pkl')\n",
        "\n",
        "# Load the dataset for reference (you need to provide the path to your dataset)\n",
        "df_encoded1 = pd.read_csv('Resources/df_encoded1_drop.csv')  \n",
        "\n",
        "# Function to handle default values for user inputs\n",
        "def get_user_input(prompt, default_value, value_type):\n",
        "    user_input = input(f\"{prompt} (default {default_value}): \")\n",
        "    if not user_input:\n",
        "        return value_type(default_value)\n",
        "    try:\n",
        "        return value_type(user_input)\n",
        "    except ValueError:\n",
        "        print(f\"Invalid input. Using default value: {default_value}\")\n",
        "        return value_type(default_value)\n",
        "# Preprocessing function (to ensure consistency with model training)\n",
        "def preprocess_input_data(input_data):\n",
        "    # One-hot encode the 'city' and 'zipcode' columns, similar to training time\n",
        "    input_data_encoded = pd.get_dummies(input_data, columns=['city', 'zipcode'], drop_first=True)\n",
        "    \n",
        "    # Get all the columns from the original dataset used for training, including one-hot encoding\n",
        "    model_columns = list(df_encoded1_drop.columns)\n",
        "    \n",
        "    # Ensure all columns are present (add missing columns with 0)\n",
        "    missing_cols = set(model_columns) - set(input_data_encoded.columns)\n",
        "    for col in missing_cols:\n",
        "        input_data_encoded[col] = 0  # Add missing columns with 0\n",
        "    \n",
        "    # Ensure the column order is the same as during training\n",
        "    input_data_encoded = input_data_encoded[model_columns]\n",
        "    \n",
        "    return input_data_encoded"
      ]
    },
    {
      "cell_type": "code",
      "execution_count": 64,
      "metadata": {},
      "outputs": [],
      "source": [
        "def get_input():\n",
        "    print(\"Please enter the following details (leave empty to use default values):\")\n",
        "    \n",
        "    # User inputs with defaults, using helper function\n",
        "    bedrooms = get_user_input(\"Number of Bedrooms\", 3, int)\n",
        "    bathrooms = get_user_input(\"Number of Bathrooms\", 2.0, float)\n",
        "    sqft_living = get_user_input(\"Square Feet of Living Area\", 1500, int)\n",
        "    avg_income = get_user_input(\"Average Income\", 65000, float)\n",
        "    city = get_user_input(\"City\", \"Seattle\", str)\n",
        "    zipcode = get_user_input(\"Zipcode\", \"98105\", str)\n",
        "\n",
        "    # Prepare the input data for prediction\n",
        "    return (pd.DataFrame([[bedrooms, bathrooms, sqft_living, city, zipcode, avg_income]],\n",
        "                              columns=['bedrooms', 'bathrooms', 'sqft_living', 'city', 'zipcode', 'avg_income']))"
      ]
    },
    {
      "cell_type": "code",
      "execution_count": 65,
      "metadata": {},
      "outputs": [
        {
          "name": "stdout",
          "output_type": "stream",
          "text": [
            "Please enter the following details (leave empty to use default values):\n"
          ]
        }
      ],
      "source": [
        "# Input data for prediction\n",
        "(input_data) = get_input()"
      ]
    },
    {
      "cell_type": "code",
      "execution_count": 66,
      "metadata": {},
      "outputs": [
        {
          "name": "stdout",
          "output_type": "stream",
          "text": [
            "   bedrooms  bathrooms  sqft_living     city zipcode  avg_income\n",
            "0         3        2.0         1200  Seattle   98002     80000.0\n"
          ]
        }
      ],
      "source": [
        "# View input data\n",
        "print(input_data)"
      ]
    },
    {
      "cell_type": "code",
      "execution_count": 67,
      "metadata": {},
      "outputs": [],
      "source": [
        "# Preprocess the input data (encode categorical variables)\n",
        "input_data_encoded = preprocess_input_data(input_data)"
      ]
    },
    {
      "cell_type": "code",
      "execution_count": 68,
      "metadata": {},
      "outputs": [
        {
          "name": "stdout",
          "output_type": "stream",
          "text": [
            "   bedrooms  bathrooms  sqft_living  avg_income  city_Auburn  city_Bellevue  \\\n",
            "0         3        2.0         1200     80000.0            0              0   \n",
            "\n",
            "   city_Federal Way  city_Kent  city_Kirkland  city_Redmond  ...  \\\n",
            "0                 0          0              0             0  ...   \n",
            "\n",
            "   zipcode_98126  zipcode_98133  zipcode_98136  zipcode_98144  zipcode_98146  \\\n",
            "0              0              0              0              0              0   \n",
            "\n",
            "   zipcode_98148  zipcode_98155  zipcode_98166  zipcode_98198  zipcode_98199  \n",
            "0              0              0              0              0              0  \n",
            "\n",
            "[1 rows x 62 columns]\n"
          ]
        }
      ],
      "source": [
        "# View data input encoded\n",
        "print(input_data_encoded)"
      ]
    },
    {
      "cell_type": "code",
      "execution_count": 69,
      "metadata": {},
      "outputs": [
        {
          "name": "stdout",
          "output_type": "stream",
          "text": [
            "The predicted housing price for your request is: $153,463.05\n"
          ]
        }
      ],
      "source": [
        "# Make the prediction using the trained model\n",
        "predicted_price = model1.predict(input_data_encoded)[0]\n",
        "print(f\"The predicted housing price for your request is: ${predicted_price:,.2f}\")"
      ]
    }
  ],
  "metadata": {
    "colab": {
      "provenance": []
    },
    "kernelspec": {
      "display_name": "Python 3",
      "name": "python3"
    },
    "language_info": {
      "codemirror_mode": {
        "name": "ipython",
        "version": 3
      },
      "file_extension": ".py",
      "mimetype": "text/x-python",
      "name": "python",
      "nbconvert_exporter": "python",
      "pygments_lexer": "ipython3",
      "version": "3.11.11"
    }
  },
  "nbformat": 4,
  "nbformat_minor": 0
}
